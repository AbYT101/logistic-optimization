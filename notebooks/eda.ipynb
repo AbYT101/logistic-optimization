{
 "cells": [
  {
   "cell_type": "code",
   "execution_count": 10,
   "metadata": {},
   "outputs": [
    {
     "ename": "ModuleNotFoundError",
     "evalue": "No module named 'scripts.data_loader'",
     "output_type": "error",
     "traceback": [
      "\u001b[1;31m---------------------------------------------------------------------------\u001b[0m",
      "\u001b[1;31mModuleNotFoundError\u001b[0m                       Traceback (most recent call last)",
      "Cell \u001b[1;32mIn[10], line 14\u001b[0m\n\u001b[0;32m     11\u001b[0m sys\u001b[38;5;241m.\u001b[39mpath\u001b[38;5;241m.\u001b[39minsert(\u001b[38;5;241m0\u001b[39m, parent_dir)\n\u001b[0;32m     13\u001b[0m \u001b[38;5;66;03m# Import the necessary classes from the scripts directory\u001b[39;00m\n\u001b[1;32m---> 14\u001b[0m \u001b[38;5;28;01mfrom\u001b[39;00m \u001b[38;5;21;01mscripts\u001b[39;00m\u001b[38;5;21;01m.\u001b[39;00m\u001b[38;5;21;01mdata_loader\u001b[39;00m \u001b[38;5;28;01mimport\u001b[39;00m DataLoader\n\u001b[0;32m     15\u001b[0m \u001b[38;5;28;01mfrom\u001b[39;00m \u001b[38;5;21;01mscripts\u001b[39;00m\u001b[38;5;21;01m.\u001b[39;00m\u001b[38;5;21;01mdata_preprocessing\u001b[39;00m \u001b[38;5;28;01mimport\u001b[39;00m DataPreprocessing\n\u001b[0;32m     17\u001b[0m \u001b[38;5;66;03m# Now you can use DataLoader and DataPreprocessing in your notebook\u001b[39;00m\n",
      "\u001b[1;31mModuleNotFoundError\u001b[0m: No module named 'scripts.data_loader'"
     ]
    }
   ],
   "source": [
    "import sys\n",
    "import os\n",
    "\n",
    "# Get the current working directory (directory where the notebook is located)\n",
    "current_dir = os.getcwd()\n",
    "\n",
    "# Get the parent directory of the current directory\n",
    "parent_dir = os.path.dirname(current_dir)\n",
    "\n",
    "# Add the parent directory to the system path\n",
    "sys.path.insert(0, parent_dir)\n",
    "\n",
    "# Import the necessary classes from the scripts directory\n",
    "from scripts.data_loader import DataLoader\n",
    "from scripts.data_preprocessing import DataPreprocessing\n",
    "\n",
    "# Now you can use DataLoader and DataPreprocessing in your notebook\n"
   ]
  },
  {
   "cell_type": "code",
   "execution_count": null,
   "metadata": {},
   "outputs": [],
   "source": [
    "loader = DataLoader('data/completed_orders.csv', 'data/delivery_requests.csv')\n",
    "completed_orders = loader.load_completed_orders()\n",
    "delivery_requests = loader.load_delivery_requests()"
   ]
  },
  {
   "cell_type": "code",
   "execution_count": null,
   "metadata": {},
   "outputs": [],
   "source": [
    "preprocessor = DataPreprocessing()\n",
    "completed_orders = preprocessor.handle_missing_values(completed_orders)\n",
    "completed_orders = preprocessor.handle_outliers(completed_orders, ['Trip Start Time', 'Trip End Time'])"
   ]
  }
 ],
 "metadata": {
  "kernelspec": {
   "display_name": "Python 3",
   "language": "python",
   "name": "python3"
  },
  "language_info": {
   "codemirror_mode": {
    "name": "ipython",
    "version": 3
   },
   "file_extension": ".py",
   "mimetype": "text/x-python",
   "name": "python",
   "nbconvert_exporter": "python",
   "pygments_lexer": "ipython3",
   "version": "3.9.0"
  }
 },
 "nbformat": 4,
 "nbformat_minor": 2
}
