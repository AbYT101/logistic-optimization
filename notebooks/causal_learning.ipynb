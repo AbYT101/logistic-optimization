{
 "cells": [
  {
   "cell_type": "code",
   "execution_count": 1,
   "metadata": {},
   "outputs": [],
   "source": [
    "import pandas as pd\n",
    "\n",
    "# Load datasets\n",
    "completed_orders = pd.read_csv('data/completed_orders.csv')\n",
    "delivery_requests = pd.read_csv('data/driver_locations_during_request.csv')\n",
    "weather = pd.read_csv('data/weather_data.csv')\n",
    "calendar = pd.read_csv('data/holiday_data.csv')"
   ]
  },
  {
   "cell_type": "code",
   "execution_count": 2,
   "metadata": {},
   "outputs": [
    {
     "name": "stdout",
     "output_type": "stream",
     "text": [
      "   Trip ID                      Trip Origin     Trip Destination  \\\n",
      "0   394447  6.4371758130759,3.5097476821616  6.4430658,3.5380258   \n",
      "1   394447  6.4371758130759,3.5097476821616  6.4430658,3.5380258   \n",
      "2   394447  6.4371758130759,3.5097476821616  6.4430658,3.5380258   \n",
      "3   394447  6.4371758130759,3.5097476821616  6.4430658,3.5380258   \n",
      "4   394447  6.4371758130759,3.5097476821616  6.4430658,3.5380258   \n",
      "\n",
      "       Trip Start Time        Trip End Time   Trip Date     id  order_id  \\\n",
      "0  2021-12-28 18:16:31  2021-07-01 13:05:02  2021-12-28  51888    394447   \n",
      "1  2021-12-28 18:16:31  2021-07-01 13:05:02  2021-12-28  51889    394447   \n",
      "2  2021-12-28 18:16:31  2021-07-01 13:05:02  2021-12-28  51890    394447   \n",
      "3  2021-12-28 18:16:31  2021-07-01 13:05:02  2021-12-28  51891    394447   \n",
      "4  2021-12-28 18:16:31  2021-07-01 13:05:02  2021-12-28  51892    394447   \n",
      "\n",
      "   driver_id driver_action       lat       lng  created_at  updated_at  \\\n",
      "0     243773      accepted  6.435905  3.493106         NaN         NaN   \n",
      "1     243863      rejected  6.434726  3.500062         NaN         NaN   \n",
      "2     244109      rejected  6.433196  3.503248         NaN         NaN   \n",
      "3     243966      rejected  6.430786  3.502685         NaN         NaN   \n",
      "4     243827      rejected  6.437021  3.508620         NaN         NaN   \n",
      "\n",
      "       date_x  temperature  rain      date_y                    name  \\\n",
      "0  2021-12-28         29.3   0.0  2021-12-28  Day off for Boxing Day   \n",
      "1  2021-12-28         29.3   0.0  2021-12-28  Day off for Boxing Day   \n",
      "2  2021-12-28         29.3   0.0  2021-12-28  Day off for Boxing Day   \n",
      "3  2021-12-28         29.3   0.0  2021-12-28  Day off for Boxing Day   \n",
      "4  2021-12-28         29.3   0.0  2021-12-28  Day off for Boxing Day   \n",
      "\n",
      "               type  \n",
      "0  National holiday  \n",
      "1  National holiday  \n",
      "2  National holiday  \n",
      "3  National holiday  \n",
      "4  National holiday  \n"
     ]
    }
   ],
   "source": [
    "# Create a new column for the date part of Trip Start Time\n",
    "completed_orders['Trip Date'] = pd.to_datetime(completed_orders['Trip Start Time']).dt.date\n",
    "\n",
    "# Merge completed_orders with delivery_requests\n",
    "data = pd.merge(completed_orders, delivery_requests, left_on='Trip ID', right_on='order_id')\n",
    "\n",
    "# Create a date column in data for merging with weather and calendar\n",
    "data['Trip Date'] = pd.to_datetime(data['Trip Start Time']).dt.date\n",
    "\n",
    "# Convert 'date' columns in weather and calendar to datetime\n",
    "weather['date'] = pd.to_datetime(weather['date']).dt.date\n",
    "calendar['date'] = pd.to_datetime(calendar['date'], utc=True).dt.date\n",
    "\n",
    "# Merge with weather data on date\n",
    "data = pd.merge(data, weather, left_on='Trip Date', right_on='date')\n",
    "\n",
    "# Merge with calendar data on date\n",
    "data = pd.merge(data, calendar, left_on='Trip Date', right_on='date')\n",
    "\n",
    "# Inspect the merged dataset\n",
    "print(data.head())"
   ]
  },
  {
   "cell_type": "code",
   "execution_count": 3,
   "metadata": {},
   "outputs": [
    {
     "data": {
      "text/html": [
       "<div>\n",
       "<style scoped>\n",
       "    .dataframe tbody tr th:only-of-type {\n",
       "        vertical-align: middle;\n",
       "    }\n",
       "\n",
       "    .dataframe tbody tr th {\n",
       "        vertical-align: top;\n",
       "    }\n",
       "\n",
       "    .dataframe thead th {\n",
       "        text-align: right;\n",
       "    }\n",
       "</style>\n",
       "<table border=\"1\" class=\"dataframe\">\n",
       "  <thead>\n",
       "    <tr style=\"text-align: right;\">\n",
       "      <th></th>\n",
       "      <th>Trip ID</th>\n",
       "      <th>Trip Origin</th>\n",
       "      <th>Trip Destination</th>\n",
       "      <th>Trip Start Time</th>\n",
       "      <th>Trip End Time</th>\n",
       "      <th>Trip Date</th>\n",
       "      <th>id</th>\n",
       "      <th>order_id</th>\n",
       "      <th>driver_id</th>\n",
       "      <th>driver_action</th>\n",
       "      <th>...</th>\n",
       "      <th>lng</th>\n",
       "      <th>created_at</th>\n",
       "      <th>updated_at</th>\n",
       "      <th>date_x</th>\n",
       "      <th>temperature</th>\n",
       "      <th>rain</th>\n",
       "      <th>date_y</th>\n",
       "      <th>name</th>\n",
       "      <th>type</th>\n",
       "      <th>trip_duration</th>\n",
       "    </tr>\n",
       "  </thead>\n",
       "  <tbody>\n",
       "    <tr>\n",
       "      <th>0</th>\n",
       "      <td>394447</td>\n",
       "      <td>6.4371758130759,3.5097476821616</td>\n",
       "      <td>6.4430658,3.5380258</td>\n",
       "      <td>2021-12-28 18:16:31</td>\n",
       "      <td>2021-07-01 13:05:02</td>\n",
       "      <td>2021-12-28</td>\n",
       "      <td>51888</td>\n",
       "      <td>394447</td>\n",
       "      <td>243773</td>\n",
       "      <td>accepted</td>\n",
       "      <td>...</td>\n",
       "      <td>3.493106</td>\n",
       "      <td>NaN</td>\n",
       "      <td>NaN</td>\n",
       "      <td>2021-12-28</td>\n",
       "      <td>29.3</td>\n",
       "      <td>0.0</td>\n",
       "      <td>2021-12-28</td>\n",
       "      <td>Day off for Boxing Day</td>\n",
       "      <td>National holiday</td>\n",
       "      <td>-259511.483333</td>\n",
       "    </tr>\n",
       "    <tr>\n",
       "      <th>1</th>\n",
       "      <td>394447</td>\n",
       "      <td>6.4371758130759,3.5097476821616</td>\n",
       "      <td>6.4430658,3.5380258</td>\n",
       "      <td>2021-12-28 18:16:31</td>\n",
       "      <td>2021-07-01 13:05:02</td>\n",
       "      <td>2021-12-28</td>\n",
       "      <td>51889</td>\n",
       "      <td>394447</td>\n",
       "      <td>243863</td>\n",
       "      <td>rejected</td>\n",
       "      <td>...</td>\n",
       "      <td>3.500062</td>\n",
       "      <td>NaN</td>\n",
       "      <td>NaN</td>\n",
       "      <td>2021-12-28</td>\n",
       "      <td>29.3</td>\n",
       "      <td>0.0</td>\n",
       "      <td>2021-12-28</td>\n",
       "      <td>Day off for Boxing Day</td>\n",
       "      <td>National holiday</td>\n",
       "      <td>-259511.483333</td>\n",
       "    </tr>\n",
       "    <tr>\n",
       "      <th>2</th>\n",
       "      <td>394447</td>\n",
       "      <td>6.4371758130759,3.5097476821616</td>\n",
       "      <td>6.4430658,3.5380258</td>\n",
       "      <td>2021-12-28 18:16:31</td>\n",
       "      <td>2021-07-01 13:05:02</td>\n",
       "      <td>2021-12-28</td>\n",
       "      <td>51890</td>\n",
       "      <td>394447</td>\n",
       "      <td>244109</td>\n",
       "      <td>rejected</td>\n",
       "      <td>...</td>\n",
       "      <td>3.503248</td>\n",
       "      <td>NaN</td>\n",
       "      <td>NaN</td>\n",
       "      <td>2021-12-28</td>\n",
       "      <td>29.3</td>\n",
       "      <td>0.0</td>\n",
       "      <td>2021-12-28</td>\n",
       "      <td>Day off for Boxing Day</td>\n",
       "      <td>National holiday</td>\n",
       "      <td>-259511.483333</td>\n",
       "    </tr>\n",
       "    <tr>\n",
       "      <th>3</th>\n",
       "      <td>394447</td>\n",
       "      <td>6.4371758130759,3.5097476821616</td>\n",
       "      <td>6.4430658,3.5380258</td>\n",
       "      <td>2021-12-28 18:16:31</td>\n",
       "      <td>2021-07-01 13:05:02</td>\n",
       "      <td>2021-12-28</td>\n",
       "      <td>51891</td>\n",
       "      <td>394447</td>\n",
       "      <td>243966</td>\n",
       "      <td>rejected</td>\n",
       "      <td>...</td>\n",
       "      <td>3.502685</td>\n",
       "      <td>NaN</td>\n",
       "      <td>NaN</td>\n",
       "      <td>2021-12-28</td>\n",
       "      <td>29.3</td>\n",
       "      <td>0.0</td>\n",
       "      <td>2021-12-28</td>\n",
       "      <td>Day off for Boxing Day</td>\n",
       "      <td>National holiday</td>\n",
       "      <td>-259511.483333</td>\n",
       "    </tr>\n",
       "    <tr>\n",
       "      <th>4</th>\n",
       "      <td>394447</td>\n",
       "      <td>6.4371758130759,3.5097476821616</td>\n",
       "      <td>6.4430658,3.5380258</td>\n",
       "      <td>2021-12-28 18:16:31</td>\n",
       "      <td>2021-07-01 13:05:02</td>\n",
       "      <td>2021-12-28</td>\n",
       "      <td>51892</td>\n",
       "      <td>394447</td>\n",
       "      <td>243827</td>\n",
       "      <td>rejected</td>\n",
       "      <td>...</td>\n",
       "      <td>3.508620</td>\n",
       "      <td>NaN</td>\n",
       "      <td>NaN</td>\n",
       "      <td>2021-12-28</td>\n",
       "      <td>29.3</td>\n",
       "      <td>0.0</td>\n",
       "      <td>2021-12-28</td>\n",
       "      <td>Day off for Boxing Day</td>\n",
       "      <td>National holiday</td>\n",
       "      <td>-259511.483333</td>\n",
       "    </tr>\n",
       "  </tbody>\n",
       "</table>\n",
       "<p>5 rows × 21 columns</p>\n",
       "</div>"
      ],
      "text/plain": [
       "   Trip ID                      Trip Origin     Trip Destination  \\\n",
       "0   394447  6.4371758130759,3.5097476821616  6.4430658,3.5380258   \n",
       "1   394447  6.4371758130759,3.5097476821616  6.4430658,3.5380258   \n",
       "2   394447  6.4371758130759,3.5097476821616  6.4430658,3.5380258   \n",
       "3   394447  6.4371758130759,3.5097476821616  6.4430658,3.5380258   \n",
       "4   394447  6.4371758130759,3.5097476821616  6.4430658,3.5380258   \n",
       "\n",
       "      Trip Start Time       Trip End Time   Trip Date     id  order_id  \\\n",
       "0 2021-12-28 18:16:31 2021-07-01 13:05:02  2021-12-28  51888    394447   \n",
       "1 2021-12-28 18:16:31 2021-07-01 13:05:02  2021-12-28  51889    394447   \n",
       "2 2021-12-28 18:16:31 2021-07-01 13:05:02  2021-12-28  51890    394447   \n",
       "3 2021-12-28 18:16:31 2021-07-01 13:05:02  2021-12-28  51891    394447   \n",
       "4 2021-12-28 18:16:31 2021-07-01 13:05:02  2021-12-28  51892    394447   \n",
       "\n",
       "   driver_id driver_action  ...       lng  created_at  updated_at      date_x  \\\n",
       "0     243773      accepted  ...  3.493106         NaN         NaN  2021-12-28   \n",
       "1     243863      rejected  ...  3.500062         NaN         NaN  2021-12-28   \n",
       "2     244109      rejected  ...  3.503248         NaN         NaN  2021-12-28   \n",
       "3     243966      rejected  ...  3.502685         NaN         NaN  2021-12-28   \n",
       "4     243827      rejected  ...  3.508620         NaN         NaN  2021-12-28   \n",
       "\n",
       "  temperature  rain      date_y                    name              type  \\\n",
       "0        29.3   0.0  2021-12-28  Day off for Boxing Day  National holiday   \n",
       "1        29.3   0.0  2021-12-28  Day off for Boxing Day  National holiday   \n",
       "2        29.3   0.0  2021-12-28  Day off for Boxing Day  National holiday   \n",
       "3        29.3   0.0  2021-12-28  Day off for Boxing Day  National holiday   \n",
       "4        29.3   0.0  2021-12-28  Day off for Boxing Day  National holiday   \n",
       "\n",
       "   trip_duration  \n",
       "0 -259511.483333  \n",
       "1 -259511.483333  \n",
       "2 -259511.483333  \n",
       "3 -259511.483333  \n",
       "4 -259511.483333  \n",
       "\n",
       "[5 rows x 21 columns]"
      ]
     },
     "execution_count": 3,
     "metadata": {},
     "output_type": "execute_result"
    }
   ],
   "source": [
    "# Create features like trip duration, distance travelled etc.\n",
    "data['Trip Start Time'] = pd.to_datetime(data['Trip Start Time'])\n",
    "data['Trip End Time'] = pd.to_datetime(data['Trip End Time'])\n",
    "data['trip_duration'] = (data['Trip End Time'] - data['Trip Start Time']).dt.total_seconds() / 60  # Duration in minutes\n",
    "\n",
    "data.head()"
   ]
  },
  {
   "cell_type": "code",
   "execution_count": 4,
   "metadata": {},
   "outputs": [
    {
     "name": "stdout",
     "output_type": "stream",
     "text": [
      "   Trip ID                      Trip Origin     Trip Destination  \\\n",
      "0   394447  6.4371758130759,3.5097476821616  6.4430658,3.5380258   \n",
      "1   394447  6.4371758130759,3.5097476821616  6.4430658,3.5380258   \n",
      "2   394447  6.4371758130759,3.5097476821616  6.4430658,3.5380258   \n",
      "3   394447  6.4371758130759,3.5097476821616  6.4430658,3.5380258   \n",
      "4   394447  6.4371758130759,3.5097476821616  6.4430658,3.5380258   \n",
      "\n",
      "      Trip Start Time       Trip End Time   Trip Date     id  order_id  \\\n",
      "0 2021-12-28 18:16:31 2021-07-01 13:05:02  2021-12-28  51888    394447   \n",
      "1 2021-12-28 18:16:31 2021-07-01 13:05:02  2021-12-28  51889    394447   \n",
      "2 2021-12-28 18:16:31 2021-07-01 13:05:02  2021-12-28  51890    394447   \n",
      "3 2021-12-28 18:16:31 2021-07-01 13:05:02  2021-12-28  51891    394447   \n",
      "4 2021-12-28 18:16:31 2021-07-01 13:05:02  2021-12-28  51892    394447   \n",
      "\n",
      "   driver_id driver_action  ...              type  trip_duration  \\\n",
      "0     243773      accepted  ...  National holiday -259511.483333   \n",
      "1     243863      rejected  ...  National holiday -259511.483333   \n",
      "2     244109      rejected  ...  National holiday -259511.483333   \n",
      "3     243966      rejected  ...  National holiday -259511.483333   \n",
      "4     243827      rejected  ...  National holiday -259511.483333   \n",
      "\n",
      "   Trip Origin Lat  Trip Origin Lng Trip Destination Lat  \\\n",
      "0         6.437176         3.509748             6.443066   \n",
      "1         6.437176         3.509748             6.443066   \n",
      "2         6.437176         3.509748             6.443066   \n",
      "3         6.437176         3.509748             6.443066   \n",
      "4         6.437176         3.509748             6.443066   \n",
      "\n",
      "   Trip Destination Lng  trip_distance     speed day_of_week is_weekend  \n",
      "0              3.538026       3.195268 -0.000739           1          0  \n",
      "1              3.538026       3.195268 -0.000739           1          0  \n",
      "2              3.538026       3.195268 -0.000739           1          0  \n",
      "3              3.538026       3.195268 -0.000739           1          0  \n",
      "4              3.538026       3.195268 -0.000739           1          0  \n",
      "\n",
      "[5 rows x 29 columns]\n"
     ]
    }
   ],
   "source": [
    "from scripts.feature_engineering import extract_features\n",
    "\n",
    "data = extract_features(df=data)\n",
    "# Inspect the dataset with new features\n",
    "print(data.head())"
   ]
  },
  {
   "cell_type": "code",
   "execution_count": 5,
   "metadata": {},
   "outputs": [
    {
     "name": "stdout",
     "output_type": "stream",
     "text": [
      "   Trip ID                      Trip Origin     Trip Destination  \\\n",
      "0   394447  6.4371758130759,3.5097476821616  6.4430658,3.5380258   \n",
      "1   394447  6.4371758130759,3.5097476821616  6.4430658,3.5380258   \n",
      "2   394447  6.4371758130759,3.5097476821616  6.4430658,3.5380258   \n",
      "3   394447  6.4371758130759,3.5097476821616  6.4430658,3.5380258   \n",
      "4   394447  6.4371758130759,3.5097476821616  6.4430658,3.5380258   \n",
      "\n",
      "      Trip Start Time       Trip End Time   Trip Date     id  order_id  \\\n",
      "0 2021-12-28 18:16:31 2021-07-01 13:05:02  2021-12-28  51888    394447   \n",
      "1 2021-12-28 18:16:31 2021-07-01 13:05:02  2021-12-28  51889    394447   \n",
      "2 2021-12-28 18:16:31 2021-07-01 13:05:02  2021-12-28  51890    394447   \n",
      "3 2021-12-28 18:16:31 2021-07-01 13:05:02  2021-12-28  51891    394447   \n",
      "4 2021-12-28 18:16:31 2021-07-01 13:05:02  2021-12-28  51892    394447   \n",
      "\n",
      "   driver_id driver_action  ...  trip_duration  Trip Origin Lat  \\\n",
      "0     243773      accepted  ... -259511.483333         6.437176   \n",
      "1     243863      rejected  ... -259511.483333         6.437176   \n",
      "2     244109      rejected  ... -259511.483333         6.437176   \n",
      "3     243966      rejected  ... -259511.483333         6.437176   \n",
      "4     243827      rejected  ... -259511.483333         6.437176   \n",
      "\n",
      "   Trip Origin Lng  Trip Destination Lat Trip Destination Lng  trip_distance  \\\n",
      "0         3.509748              6.443066             3.538026       3.195268   \n",
      "1         3.509748              6.443066             3.538026       3.195268   \n",
      "2         3.509748              6.443066             3.538026       3.195268   \n",
      "3         3.509748              6.443066             3.538026       3.195268   \n",
      "4         3.509748              6.443066             3.538026       3.195268   \n",
      "\n",
      "      speed day_of_week is_weekend unfulfilled_request  \n",
      "0 -0.000739           1          0                   0  \n",
      "1 -0.000739           1          0                   0  \n",
      "2 -0.000739           1          0                   0  \n",
      "3 -0.000739           1          0                   0  \n",
      "4 -0.000739           1          0                   0  \n",
      "\n",
      "[5 rows x 30 columns]\n"
     ]
    }
   ],
   "source": [
    "import numpy as np\n",
    "\n",
    "# Encode categorical variables\n",
    "# data = pd.get_dummies(data, columns=['type'], drop_first=True)\n",
    "\n",
    "# Define unfulfilled requests as target variable\n",
    "data['unfulfilled_request'] = np.where(data['driver_action'] == 'unfulfilled', 1, 0)\n",
    "\n",
    "# Inspect the merged dataset\n",
    "print(data.head())"
   ]
  },
  {
   "cell_type": "code",
   "execution_count": 6,
   "metadata": {},
   "outputs": [
    {
     "name": "stdout",
     "output_type": "stream",
     "text": [
      "Training Data Shape: (1415, 30)\n",
      "Holdout Data Shape: (607, 30)\n"
     ]
    }
   ],
   "source": [
    "from sklearn.model_selection import train_test_split\n",
    "\n",
    "# Split data into training (70%) and hold-out set (30%)\n",
    "train_data, holdout_data = train_test_split(data, test_size=0.3, random_state=42)\n",
    "\n",
    "print(\"Training Data Shape:\", train_data.shape)\n",
    "print(\"Holdout Data Shape:\", holdout_data.shape)\n"
   ]
  },
  {
   "cell_type": "code",
   "execution_count": 34,
   "metadata": {},
   "outputs": [
    {
     "name": "stderr",
     "output_type": "stream",
     "text": [
      "c:\\10x\\logistic-optimization\\.venv\\lib\\site-packages\\scipy\\linalg\\_matfuncs.py:358: RuntimeWarning: overflow encountered in matmul\n",
      "  eAw = eAw @ eAw\n",
      "c:\\10x\\logistic-optimization\\.venv\\lib\\site-packages\\causalnex\\structure\\notears.py:407: RuntimeWarning: invalid value encountered in multiply\n",
      "  obj_grad = loss_grad + (rho * (np.trace(E) - d) + alpha) * E.T * W * 2\n",
      "c:\\10x\\logistic-optimization\\.venv\\lib\\site-packages\\causalnex\\structure\\notears.py:436: UserWarning: Failed to converge. Consider increasing max_iter.\n",
      "  warnings.warn(\"Failed to converge. Consider increasing max_iter.\")\n"
     ]
    },
    {
     "data": {
      "text/plain": [
       "True"
      ]
     },
     "execution_count": 34,
     "metadata": {},
     "output_type": "execute_result"
    }
   ],
   "source": [
    "from causalnex.structure import StructureModel\n",
    "from causalnex.structure.notears import from_pandas\n",
    "from causalnex.network import BayesianNetwork\n",
    "import matplotlib.pyplot as plt\n",
    "from causalnex.plots import plot_structure, NODE_STYLE, EDGE_STYLE\n",
    "import codecs\n",
    "\n",
    "# Select features for causal graph\n",
    "features = ['trip_duration', 'trip_distance','temperature']\n",
    "\n",
    "# Create causal graph\n",
    "sm = from_pandas(train_data[features], w_threshold=0.8)\n",
    "\n",
    "# Visualize the causal graph\n",
    "viz = plot_structure(\n",
    "    sm,\n",
    "    all_node_attributes=NODE_STYLE.WEAK,\n",
    "    all_edge_attributes=EDGE_STYLE.WEAK,\n",
    ")\n",
    "\n",
    "# Extract the HTML content\n",
    "html_content = viz.generate_html()\n",
    "\n",
    "# Save the HTML content with UTF-8 encoding\n",
    "with codecs.open('causal_graph_full.html', 'w', encoding='utf-8') as file:\n",
    "    file.write(html_content)\n",
    "\n",
    "#open the file in the default web browser\n",
    "import webbrowser\n",
    "webbrowser.open('causal_graph_full.html')\n"
   ]
  },
  {
   "cell_type": "code",
   "execution_count": 36,
   "metadata": {},
   "outputs": [
    {
     "data": {
      "text/plain": [
       "OutEdgeView([('trip_distance', 'trip_duration'), ('temperature', 'trip_duration')])"
      ]
     },
     "execution_count": 36,
     "metadata": {},
     "output_type": "execute_result"
    }
   ],
   "source": [
    "\n",
    "# Convert to Bayesian Network for further analysis\n",
    "bn = BayesianNetwork(sm)\n",
    "\n",
    "# Display learned structure\n",
    "sm.edges()"
   ]
  },
  {
   "cell_type": "code",
   "execution_count": 37,
   "metadata": {},
   "outputs": [
    {
     "name": "stderr",
     "output_type": "stream",
     "text": [
      "c:\\10x\\logistic-optimization\\.venv\\lib\\site-packages\\scipy\\linalg\\_matfuncs.py:358: RuntimeWarning: overflow encountered in matmul\n",
      "  eAw = eAw @ eAw\n",
      "c:\\10x\\logistic-optimization\\.venv\\lib\\site-packages\\causalnex\\structure\\notears.py:407: RuntimeWarning: invalid value encountered in multiply\n",
      "  obj_grad = loss_grad + (rho * (np.trace(E) - d) + alpha) * E.T * W * 2\n",
      "c:\\10x\\logistic-optimization\\.venv\\lib\\site-packages\\causalnex\\structure\\notears.py:436: UserWarning: Failed to converge. Consider increasing max_iter.\n",
      "  warnings.warn(\"Failed to converge. Consider increasing max_iter.\")\n",
      "c:\\10x\\logistic-optimization\\.venv\\lib\\site-packages\\scipy\\linalg\\_matfuncs.py:358: RuntimeWarning: overflow encountered in matmul\n",
      "  eAw = eAw @ eAw\n",
      "c:\\10x\\logistic-optimization\\.venv\\lib\\site-packages\\causalnex\\structure\\notears.py:407: RuntimeWarning: invalid value encountered in multiply\n",
      "  obj_grad = loss_grad + (rho * (np.trace(E) - d) + alpha) * E.T * W * 2\n",
      "c:\\10x\\logistic-optimization\\.venv\\lib\\site-packages\\causalnex\\structure\\notears.py:436: UserWarning: Failed to converge. Consider increasing max_iter.\n",
      "  warnings.warn(\"Failed to converge. Consider increasing max_iter.\")\n",
      "c:\\10x\\logistic-optimization\\.venv\\lib\\site-packages\\scipy\\linalg\\_matfuncs.py:358: RuntimeWarning: overflow encountered in matmul\n",
      "  eAw = eAw @ eAw\n",
      "c:\\10x\\logistic-optimization\\.venv\\lib\\site-packages\\causalnex\\structure\\notears.py:407: RuntimeWarning: invalid value encountered in multiply\n",
      "  obj_grad = loss_grad + (rho * (np.trace(E) - d) + alpha) * E.T * W * 2\n"
     ]
    },
    {
     "name": "stdout",
     "output_type": "stream",
     "text": [
      "Fraction: 0.1, Jaccard Index: 1.0000\n",
      "Fraction: 0.2, Jaccard Index: 1.0000\n"
     ]
    },
    {
     "name": "stderr",
     "output_type": "stream",
     "text": [
      "c:\\10x\\logistic-optimization\\.venv\\lib\\site-packages\\causalnex\\structure\\notears.py:436: UserWarning: Failed to converge. Consider increasing max_iter.\n",
      "  warnings.warn(\"Failed to converge. Consider increasing max_iter.\")\n",
      "c:\\10x\\logistic-optimization\\.venv\\lib\\site-packages\\scipy\\linalg\\_matfuncs.py:358: RuntimeWarning: overflow encountered in matmul\n",
      "  eAw = eAw @ eAw\n",
      "c:\\10x\\logistic-optimization\\.venv\\lib\\site-packages\\causalnex\\structure\\notears.py:407: RuntimeWarning: invalid value encountered in multiply\n",
      "  obj_grad = loss_grad + (rho * (np.trace(E) - d) + alpha) * E.T * W * 2\n",
      "c:\\10x\\logistic-optimization\\.venv\\lib\\site-packages\\causalnex\\structure\\notears.py:436: UserWarning: Failed to converge. Consider increasing max_iter.\n",
      "  warnings.warn(\"Failed to converge. Consider increasing max_iter.\")\n",
      "c:\\10x\\logistic-optimization\\.venv\\lib\\site-packages\\scipy\\linalg\\_matfuncs.py:358: RuntimeWarning: overflow encountered in matmul\n",
      "  eAw = eAw @ eAw\n",
      "c:\\10x\\logistic-optimization\\.venv\\lib\\site-packages\\causalnex\\structure\\notears.py:407: RuntimeWarning: invalid value encountered in multiply\n",
      "  obj_grad = loss_grad + (rho * (np.trace(E) - d) + alpha) * E.T * W * 2\n",
      "c:\\10x\\logistic-optimization\\.venv\\lib\\site-packages\\causalnex\\structure\\notears.py:436: UserWarning: Failed to converge. Consider increasing max_iter.\n",
      "  warnings.warn(\"Failed to converge. Consider increasing max_iter.\")\n",
      "c:\\10x\\logistic-optimization\\.venv\\lib\\site-packages\\scipy\\linalg\\_matfuncs.py:358: RuntimeWarning: overflow encountered in matmul\n",
      "  eAw = eAw @ eAw\n",
      "c:\\10x\\logistic-optimization\\.venv\\lib\\site-packages\\causalnex\\structure\\notears.py:407: RuntimeWarning: invalid value encountered in multiply\n",
      "  obj_grad = loss_grad + (rho * (np.trace(E) - d) + alpha) * E.T * W * 2\n"
     ]
    },
    {
     "name": "stdout",
     "output_type": "stream",
     "text": [
      "Fraction: 0.3, Jaccard Index: 1.0000\n",
      "Fraction: 0.4, Jaccard Index: 1.0000\n"
     ]
    },
    {
     "name": "stderr",
     "output_type": "stream",
     "text": [
      "c:\\10x\\logistic-optimization\\.venv\\lib\\site-packages\\causalnex\\structure\\notears.py:436: UserWarning: Failed to converge. Consider increasing max_iter.\n",
      "  warnings.warn(\"Failed to converge. Consider increasing max_iter.\")\n"
     ]
    },
    {
     "name": "stdout",
     "output_type": "stream",
     "text": [
      "Fraction: 0.5, Jaccard Index: 1.0000\n"
     ]
    },
    {
     "name": "stderr",
     "output_type": "stream",
     "text": [
      "c:\\10x\\logistic-optimization\\.venv\\lib\\site-packages\\scipy\\linalg\\_matfuncs.py:358: RuntimeWarning: overflow encountered in matmul\n",
      "  eAw = eAw @ eAw\n",
      "c:\\10x\\logistic-optimization\\.venv\\lib\\site-packages\\causalnex\\structure\\notears.py:407: RuntimeWarning: invalid value encountered in multiply\n",
      "  obj_grad = loss_grad + (rho * (np.trace(E) - d) + alpha) * E.T * W * 2\n",
      "c:\\10x\\logistic-optimization\\.venv\\lib\\site-packages\\causalnex\\structure\\notears.py:436: UserWarning: Failed to converge. Consider increasing max_iter.\n",
      "  warnings.warn(\"Failed to converge. Consider increasing max_iter.\")\n",
      "c:\\10x\\logistic-optimization\\.venv\\lib\\site-packages\\scipy\\linalg\\_matfuncs.py:358: RuntimeWarning: overflow encountered in matmul\n",
      "  eAw = eAw @ eAw\n",
      "c:\\10x\\logistic-optimization\\.venv\\lib\\site-packages\\causalnex\\structure\\notears.py:407: RuntimeWarning: invalid value encountered in multiply\n",
      "  obj_grad = loss_grad + (rho * (np.trace(E) - d) + alpha) * E.T * W * 2\n"
     ]
    },
    {
     "name": "stdout",
     "output_type": "stream",
     "text": [
      "Fraction: 0.6, Jaccard Index: 1.0000\n"
     ]
    },
    {
     "name": "stderr",
     "output_type": "stream",
     "text": [
      "c:\\10x\\logistic-optimization\\.venv\\lib\\site-packages\\causalnex\\structure\\notears.py:436: UserWarning: Failed to converge. Consider increasing max_iter.\n",
      "  warnings.warn(\"Failed to converge. Consider increasing max_iter.\")\n",
      "c:\\10x\\logistic-optimization\\.venv\\lib\\site-packages\\scipy\\linalg\\_matfuncs.py:358: RuntimeWarning: overflow encountered in matmul\n",
      "  eAw = eAw @ eAw\n",
      "c:\\10x\\logistic-optimization\\.venv\\lib\\site-packages\\causalnex\\structure\\notears.py:407: RuntimeWarning: invalid value encountered in multiply\n",
      "  obj_grad = loss_grad + (rho * (np.trace(E) - d) + alpha) * E.T * W * 2\n",
      "c:\\10x\\logistic-optimization\\.venv\\lib\\site-packages\\causalnex\\structure\\notears.py:436: UserWarning: Failed to converge. Consider increasing max_iter.\n",
      "  warnings.warn(\"Failed to converge. Consider increasing max_iter.\")\n"
     ]
    },
    {
     "name": "stdout",
     "output_type": "stream",
     "text": [
      "Fraction: 0.7, Jaccard Index: 1.0000\n",
      "Fraction: 0.8, Jaccard Index: 1.0000\n"
     ]
    },
    {
     "name": "stderr",
     "output_type": "stream",
     "text": [
      "c:\\10x\\logistic-optimization\\.venv\\lib\\site-packages\\scipy\\linalg\\_matfuncs.py:358: RuntimeWarning: overflow encountered in matmul\n",
      "  eAw = eAw @ eAw\n",
      "c:\\10x\\logistic-optimization\\.venv\\lib\\site-packages\\causalnex\\structure\\notears.py:407: RuntimeWarning: invalid value encountered in multiply\n",
      "  obj_grad = loss_grad + (rho * (np.trace(E) - d) + alpha) * E.T * W * 2\n",
      "c:\\10x\\logistic-optimization\\.venv\\lib\\site-packages\\causalnex\\structure\\notears.py:436: UserWarning: Failed to converge. Consider increasing max_iter.\n",
      "  warnings.warn(\"Failed to converge. Consider increasing max_iter.\")\n"
     ]
    },
    {
     "name": "stdout",
     "output_type": "stream",
     "text": [
      "Fraction: 0.9, Jaccard Index: 1.0000\n",
      "Graph stabilizes at: 0.2\n"
     ]
    },
    {
     "data": {
      "image/png": "[encoded data removed]",
      "text/plain": [
       "<Figure size 640x480 with 1 Axes>"
      ]
     },
     "metadata": {},
     "output_type": "display_data"
    }
   ],
   "source": [
    "import numpy as np\n",
    "from causalnex.structure.notears import from_pandas\n",
    "from sklearn.model_selection import train_test_split\n",
    "import networkx as nx\n",
    "\n",
    "# Function to calculate Jaccard Similarity Index\n",
    "def jaccard_similarity(graph1, graph2):\n",
    "    edges1 = set(graph1.edges())\n",
    "    edges2 = set(graph2.edges())\n",
    "    intersection = len(edges1 & edges2)\n",
    "    union = len(edges1 | edges2)\n",
    "    return intersection / union\n",
    "\n",
    "# Create causal graph with full training data\n",
    "full_graph = from_pandas(train_data[features], w_threshold=0.8, max_iter=100)\n",
    "\n",
    "# Initialize lists to store fractions and Jaccard indices\n",
    "fractions = np.arange(0.1, 1.0, 0.1)  # Avoid using 1.0 to prevent error\n",
    "jaccard_indices = []\n",
    "\n",
    "# Incrementally create causal graphs\n",
    "for fraction in fractions:\n",
    "    subset_data, _ = train_test_split(train_data, train_size=fraction, random_state=42)\n",
    "    try:\n",
    "        subset_graph = from_pandas(subset_data[features], w_threshold=0.8, max_iter=100)\n",
    "        jaccard_index = jaccard_similarity(full_graph, subset_graph)\n",
    "        jaccard_indices.append(jaccard_index)\n",
    "        print(f\"Fraction: {fraction:.1f}, Jaccard Index: {jaccard_index:.4f}\")\n",
    "    except Exception as e:\n",
    "        print(f\"Fraction: {fraction:.1f}, Error: {str(e)}\")\n",
    "        jaccard_indices.append(np.nan)\n",
    "\n",
    "# Add Jaccard Index for the full data\n",
    "jaccard_indices.append(1.0)\n",
    "\n",
    "# Determine at which point the graph stabilizes\n",
    "stable_fraction = fractions[np.argmax(np.diff(jaccard_indices, prepend=np.nan) < 0.01)]  # Fraction where the graph stabilizes\n",
    "print(f\"Graph stabilizes at: {stable_fraction:.1f}\")\n",
    "\n",
    "# Plot Jaccard Similarity Index vs. Data Fraction\n",
    "import matplotlib.pyplot as plt\n",
    "\n",
    "plt.plot(np.append(fractions, 1.0), jaccard_indices, marker='o')\n",
    "plt.xlabel('Data Fraction')\n",
    "plt.ylabel('Jaccard Similarity Index')\n",
    "plt.title('Jaccard Similarity Index vs. Data Fraction')\n",
    "plt.grid(True)\n",
    "plt.show()"
   ]
  },
  {
   "cell_type": "code",
   "execution_count": 38,
   "metadata": {},
   "outputs": [
    {
     "name": "stdout",
     "output_type": "stream",
     "text": [
      "Direct causes of 'trip_duration': ['trip_distance', 'temperature']\n"
     ]
    },
    {
     "name": "stderr",
     "output_type": "stream",
     "text": [
      "c:\\10x\\logistic-optimization\\.venv\\lib\\site-packages\\scipy\\linalg\\_matfuncs.py:358: RuntimeWarning: overflow encountered in matmul\n",
      "  eAw = eAw @ eAw\n",
      "c:\\10x\\logistic-optimization\\.venv\\lib\\site-packages\\causalnex\\structure\\notears.py:407: RuntimeWarning: invalid value encountered in multiply\n",
      "  obj_grad = loss_grad + (rho * (np.trace(E) - d) + alpha) * E.T * W * 2\n",
      "c:\\10x\\logistic-optimization\\.venv\\lib\\site-packages\\causalnex\\structure\\notears.py:436: UserWarning: Failed to converge. Consider increasing max_iter.\n",
      "  warnings.warn(\"Failed to converge. Consider increasing max_iter.\")\n"
     ]
    }
   ],
   "source": [
    "# Create the stable causal graph\n",
    "stable_data, _ = train_test_split(train_data, train_size=stable_fraction, random_state=42)\n",
    "stable_graph = from_pandas(stable_data[features], w_threshold=0.8)\n",
    "\n",
    "# Convert to Bayesian Network\n",
    "bn = BayesianNetwork(stable_graph)\n",
    "\n",
    "# Select direct causes of the target variable 'unfulfilled_request'\n",
    "direct_causes = list(stable_graph.predecessors('trip_duration'))\n",
    "print(f\"Direct causes of 'trip_duration': {direct_causes}\")\n"
   ]
  },
  {
   "cell_type": "code",
   "execution_count": 51,
   "metadata": {},
   "outputs": [
    {
     "name": "stdout",
     "output_type": "stream",
     "text": [
      "{0.5714540020630898: 0.05714285714285712, 0.8751911329136906: 0.012698412698412704, 0.9601505197424661: 0.08253968253968247, 1.3874171341655626: 0.06031746031746031, 1.6476017237150993: 0.07301587301587306, 1.9880528857358368: 0.009523809523809526, 2.0846164797377624: 0.022222222222222233, 2.7436373849913336: 0.02539682539682539, 2.9482363388339716: 0.03174603174603171, 3.195268386162073: 0.019047619047619032, 3.4612071320695543: 0.06984126984126984, 3.520767941000771: 0.022222222222222237, 3.657254298324889: 0.09523809523809526, 3.8716728840070562: 0.009523809523809528, 4.046217610105083: 0.009523809523809526, 4.0666370691508: 0.0126984126984127, 4.0672513906729: 0.009523809523809528, 6.0539947729024295: 0.03492063492063492, 6.406326928575699: 0.009523809523809526, 6.709082502681328: 0.01904761904761904, 6.848368269572274: 0.012698412698412702, 6.917992666360368: 0.012698412698412702, 8.082588179921704: 0.03174603174603173, 8.303972823652666: 0.0126984126984127, 9.496749195391764: 0.009523809523809528, 9.66399988020277: 0.02539682539682538, 10.108741580986235: 0.012698412698412704, 10.188378305593622: 0.009523809523809526, 10.571253633993026: 0.12380952380952381, 11.337550563883703: 0.015873015873015872, 15.940360124111836: 0.02539682539682538, 18.59678720103555: 0.022222222222222237}\n"
     ]
    },
    {
     "ename": "AttributeError",
     "evalue": "'dict' object has no attribute 'mean'",
     "output_type": "error",
     "traceback": [
      "\u001b[1;31m---------------------------------------------------------------------------\u001b[0m",
      "\u001b[1;31mAttributeError\u001b[0m                            Traceback (most recent call last)",
      "Cell \u001b[1;32mIn[51], line 32\u001b[0m\n\u001b[0;32m     29\u001b[0m \u001b[38;5;28mprint\u001b[39m(ie\u001b[38;5;241m.\u001b[39mquery()[\u001b[38;5;124m'\u001b[39m\u001b[38;5;124mtrip_distance\u001b[39m\u001b[38;5;124m'\u001b[39m])\n\u001b[0;32m     30\u001b[0m \u001b[38;5;66;03m# Business Questions:\u001b[39;00m\n\u001b[0;32m     31\u001b[0m \u001b[38;5;66;03m# 1. Given drivers are recommended to move 1km every 30 mins in a selected direction, what happens to the number of unfulfilled requests?\u001b[39;00m\n\u001b[1;32m---> 32\u001b[0m intervention_1 \u001b[38;5;241m=\u001b[39m {\u001b[38;5;124m'\u001b[39m\u001b[38;5;124mtrip_distance\u001b[39m\u001b[38;5;124m'\u001b[39m: \u001b[43mie\u001b[49m\u001b[38;5;241;43m.\u001b[39;49m\u001b[43mquery\u001b[49m\u001b[43m(\u001b[49m\u001b[43m)\u001b[49m\u001b[43m[\u001b[49m\u001b[38;5;124;43m'\u001b[39;49m\u001b[38;5;124;43mtrip_distance\u001b[39;49m\u001b[38;5;124;43m'\u001b[39;49m\u001b[43m]\u001b[49m\u001b[38;5;241;43m.\u001b[39;49m\u001b[43mmean\u001b[49m() \u001b[38;5;241m+\u001b[39m \u001b[38;5;241m1\u001b[39m}  \u001b[38;5;66;03m# Assuming this is how we model the 1km movement\u001b[39;00m\n\u001b[0;32m     33\u001b[0m prediction_1 \u001b[38;5;241m=\u001b[39m predict_unfulfilled_requests(intervention_1)\n\u001b[0;32m     34\u001b[0m \u001b[38;5;28mprint\u001b[39m(\u001b[38;5;124mf\u001b[39m\u001b[38;5;124m\"\u001b[39m\u001b[38;5;124mPredicted unfulfilled requests after intervention 1: \u001b[39m\u001b[38;5;132;01m{\u001b[39;00mprediction_1\u001b[38;5;132;01m}\u001b[39;00m\u001b[38;5;124m\"\u001b[39m)\n",
      "\u001b[1;31mAttributeError\u001b[0m: 'dict' object has no attribute 'mean'"
     ]
    }
   ],
   "source": [
    "from causalnex.network import BayesianNetwork\n",
    "from causalnex.structure.notears import from_pandas\n",
    "from causalnex.plots import plot_structure, NODE_STYLE, EDGE_STYLE\n",
    "import matplotlib.pyplot as plt\n",
    "from causalnex.inference import InferenceEngine\n",
    "\n",
    "# Function to fit CPDs to the Bayesian Network\n",
    "def fit_cpds(bn, data, method=\"BayesianEstimator\"):\n",
    "    from causalnex.network import BayesianNetwork\n",
    "    bn = BayesianNetwork(bn)\n",
    "    bn.fit_node_states_and_cpds(data, method=method, bayes_prior='K2')\n",
    "    return bn\n",
    "\n",
    "# Fit the CPDs to the Bayesian Network\n",
    "bn = fit_cpds(stable_graph, stable_data[features])\n",
    "\n",
    "# Initialize inference engine\n",
    "ie = InferenceEngine(bn)\n",
    "\n",
    "# Function to perform interventions and predict unfulfilled requests\n",
    "def predict_unfulfilled_requests(intervention, evidence=None):\n",
    "    ie.do_intervention(intervention)\n",
    "    if evidence:\n",
    "        ie.update_beliefs(evidence)\n",
    "    prediction = ie.query()[\"unfulfilled_request\"]\n",
    "    ie.reset_do(intervention.keys())\n",
    "    return prediction\n",
    "\n",
    "print(ie.query()['trip_distance'])\n",
    "# Business Questions:\n",
    "# 1. Given drivers are recommended to move 1km every 30 mins in a selected direction, what happens to the number of unfulfilled requests?\n",
    "intervention_1 = {'trip_distance': ie.query()['trip_distance'].mean() + 1}  # Assuming this is how we model the 1km movement\n",
    "prediction_1 = predict_unfulfilled_requests(intervention_1)\n",
    "print(f\"Predicted unfulfilled requests after intervention 1: {prediction_1}\")\n",
    "\n",
    "# 2. If we assume we know the location of the next 20% of orders within 5km accuracy, what happens to the number of unfulfilled requests?\n",
    "intervention_2 = {'trip_distance': ie.query()['trip_distance'].mean() + 5}  # Assuming 5km accuracy\n",
    "prediction_2 = predict_unfulfilled_requests(intervention_2)\n",
    "print(f\"Predicted unfulfilled requests after intervention 2: {prediction_2}\")\n",
    "\n",
    "# 3. Had we changed the time requirements to drivers operating time in the past, what fractions of orders could have been completed?\n",
    "# Assuming 'trip_duration' reflects operating time; we intervene on 'trip_duration'\n",
    "intervention_3 = {'trip_duration': ie.query()['trip_duration'].mean() * 1.1}  # Example: increasing operating time by 10%\n",
    "prediction_3 = predict_unfulfilled_requests(intervention_3)\n",
    "print(f\"Predicted unfulfilled requests after intervention 3: {prediction_3}\")\n",
    "\n",
    "# 4. If I increased the number of drivers by 10% cumulative per month, what fraction of orders can be completed?\n",
    "# Assuming the number of drivers impacts 'trip_duration' and 'trip_distance'\n",
    "intervention_4 = {'trip_duration': ie.query()['trip_duration'].mean() * 0.9, 'trip_distance': ie.query()['trip_distance'].mean() * 1.1}\n",
    "prediction_4 = predict_unfulfilled_requests(intervention_4)\n",
    "print(f\"Predicted unfulfilled requests after intervention 4: {prediction_4}\")\n"
   ]
  },
  {
   "cell_type": "code",
   "execution_count": 21,
   "metadata": {},
   "outputs": [
    {
     "ename": "NetworkXError",
     "evalue": "The node unfulfilled_request is not in the digraph.",
     "output_type": "error",
     "traceback": [
      "\u001b[1;31m---------------------------------------------------------------------------\u001b[0m",
      "\u001b[1;31mKeyError\u001b[0m                                  Traceback (most recent call last)",
      "File \u001b[1;32mc:\\10x\\logistic-optimization\\.venv\\lib\\site-packages\\networkx\\classes\\digraph.py:927\u001b[0m, in \u001b[0;36mDiGraph.predecessors\u001b[1;34m(self, n)\u001b[0m\n\u001b[0;32m    926\u001b[0m \u001b[38;5;28;01mtry\u001b[39;00m:\n\u001b[1;32m--> 927\u001b[0m     \u001b[38;5;28;01mreturn\u001b[39;00m \u001b[38;5;28miter\u001b[39m(\u001b[38;5;28;43mself\u001b[39;49m\u001b[38;5;241;43m.\u001b[39;49m\u001b[43m_pred\u001b[49m\u001b[43m[\u001b[49m\u001b[43mn\u001b[49m\u001b[43m]\u001b[49m)\n\u001b[0;32m    928\u001b[0m \u001b[38;5;28;01mexcept\u001b[39;00m \u001b[38;5;167;01mKeyError\u001b[39;00m \u001b[38;5;28;01mas\u001b[39;00m err:\n",
      "\u001b[1;31mKeyError\u001b[0m: 'unfulfilled_request'",
      "\nThe above exception was the direct cause of the following exception:\n",
      "\u001b[1;31mNetworkXError\u001b[0m                             Traceback (most recent call last)",
      "Cell \u001b[1;32mIn[21], line 2\u001b[0m\n\u001b[0;32m      1\u001b[0m \u001b[38;5;66;03m# Select direct causes of the target variable 'unfulfilled_request'\u001b[39;00m\n\u001b[1;32m----> 2\u001b[0m direct_causes \u001b[38;5;241m=\u001b[39m \u001b[38;5;28mlist\u001b[39m(\u001b[43mstable_graph\u001b[49m\u001b[38;5;241;43m.\u001b[39;49m\u001b[43mpredecessors\u001b[49m\u001b[43m(\u001b[49m\u001b[38;5;124;43m'\u001b[39;49m\u001b[38;5;124;43munfulfilled_request\u001b[39;49m\u001b[38;5;124;43m'\u001b[39;49m\u001b[43m)\u001b[49m)\n\u001b[0;32m      3\u001b[0m \u001b[38;5;28mprint\u001b[39m(\u001b[38;5;124mf\u001b[39m\u001b[38;5;124m\"\u001b[39m\u001b[38;5;124mDirect causes of \u001b[39m\u001b[38;5;124m'\u001b[39m\u001b[38;5;124munfulfilled_request\u001b[39m\u001b[38;5;124m'\u001b[39m\u001b[38;5;124m: \u001b[39m\u001b[38;5;132;01m{\u001b[39;00mdirect_causes\u001b[38;5;132;01m}\u001b[39;00m\u001b[38;5;124m\"\u001b[39m)\n",
      "File \u001b[1;32mc:\\10x\\logistic-optimization\\.venv\\lib\\site-packages\\networkx\\classes\\digraph.py:929\u001b[0m, in \u001b[0;36mDiGraph.predecessors\u001b[1;34m(self, n)\u001b[0m\n\u001b[0;32m    927\u001b[0m     \u001b[38;5;28;01mreturn\u001b[39;00m \u001b[38;5;28miter\u001b[39m(\u001b[38;5;28mself\u001b[39m\u001b[38;5;241m.\u001b[39m_pred[n])\n\u001b[0;32m    928\u001b[0m \u001b[38;5;28;01mexcept\u001b[39;00m \u001b[38;5;167;01mKeyError\u001b[39;00m \u001b[38;5;28;01mas\u001b[39;00m err:\n\u001b[1;32m--> 929\u001b[0m     \u001b[38;5;28;01mraise\u001b[39;00m NetworkXError(\u001b[38;5;124mf\u001b[39m\u001b[38;5;124m\"\u001b[39m\u001b[38;5;124mThe node \u001b[39m\u001b[38;5;132;01m{\u001b[39;00mn\u001b[38;5;132;01m}\u001b[39;00m\u001b[38;5;124m is not in the digraph.\u001b[39m\u001b[38;5;124m\"\u001b[39m) \u001b[38;5;28;01mfrom\u001b[39;00m \u001b[38;5;21;01merr\u001b[39;00m\n",
      "\u001b[1;31mNetworkXError\u001b[0m: The node unfulfilled_request is not in the digraph."
     ]
    }
   ],
   "source": [
    "# Select direct causes of the target variable 'unfulfilled_request'\n",
    "direct_causes = list(stable_graph.predecessors('unfulfilled_request'))\n",
    "print(f\"Direct causes of 'unfulfilled_request': {direct_causes}\")\n"
   ]
  },
  {
   "cell_type": "code",
   "execution_count": 25,
   "metadata": {},
   "outputs": [
    {
     "name": "stdout",
     "output_type": "stream",
     "text": [
      "XGBoost RMSE (all features): 0.0000, R2: 1.0000\n",
      "Random Forest RMSE (all features): 0.0000, R2: 1.0000\n",
      "XGBoost RMSE (selected features): 0.0000, R2: 1.0000\n",
      "Random Forest RMSE (selected features): 0.0000, R2: 1.0000\n"
     ]
    }
   ],
   "source": [
    "from xgboost import XGBRegressor\n",
    "from sklearn.ensemble import RandomForestRegressor\n",
    "from sklearn.metrics import mean_squared_error, r2_score\n",
    "\n",
    "# Train-test split\n",
    "X_train = train_data[features]\n",
    "y_train = train_data['unfulfilled_request']\n",
    "X_test = holdout_data[features]\n",
    "y_test = holdout_data['unfulfilled_request']\n",
    "\n",
    "# Train models using all features\n",
    "xgb_model_all = XGBRegressor()\n",
    "rf_model_all = RandomForestRegressor()\n",
    "\n",
    "xgb_model_all.fit(X_train, y_train)\n",
    "rf_model_all.fit(X_train, y_train)\n",
    "\n",
    "# Evaluate models using all features\n",
    "xgb_predictions_all = xgb_model_all.predict(X_test)\n",
    "rf_predictions_all = rf_model_all.predict(X_test)\n",
    "\n",
    "xgb_rmse_all = mean_squared_error(y_test, xgb_predictions_all)\n",
    "rf_rmse_all = mean_squared_error(y_test, rf_predictions_all)\n",
    "xgb_r2_all = r2_score(y_test, xgb_predictions_all)\n",
    "rf_r2_all = r2_score(y_test, rf_predictions_all)\n",
    "\n",
    "print(f\"XGBoost RMSE (all features): {xgb_rmse_all:.4f}, R2: {xgb_r2_all:.4f}\")\n",
    "print(f\"Random Forest RMSE (all features): {rf_rmse_all:.4f}, R2: {rf_r2_all:.4f}\")\n",
    "\n",
    "# Train models using selected features\n",
    "selected_features = direct_causes\n",
    "X_train_selected = train_data[selected_features]\n",
    "X_test_selected = holdout_data[selected_features]\n",
    "\n",
    "xgb_model_selected = XGBRegressor()\n",
    "rf_model_selected = RandomForestRegressor()\n",
    "\n",
    "xgb_model_selected.fit(X_train_selected, y_train)\n",
    "rf_model_selected.fit(X_train_selected, y_train)\n",
    "\n",
    "# Evaluate models using selected features\n",
    "xgb_predictions_selected = xgb_model_selected.predict(X_test_selected)\n",
    "rf_predictions_selected = rf_model_selected.predict(X_test_selected)\n",
    "\n",
    "xgb_rmse_selected = mean_squared_error(y_test, xgb_predictions_selected)\n",
    "rf_rmse_selected = mean_squared_error(y_test, rf_predictions_selected)\n",
    "xgb_r2_selected = r2_score(y_test, xgb_predictions_selected)\n",
    "rf_r2_selected = r2_score(y_test, rf_predictions_selected)\n",
    "\n",
    "print(f\"XGBoost RMSE (selected features): {xgb_rmse_selected:.4f}, R2: {xgb_r2_selected:.4f}\")\n",
    "print(f\"Random Forest RMSE (selected features): {rf_rmse_selected:.4f}, R2: {rf_r2_selected:.4f}\")"
   ]
  }
 ],
 "metadata": {
  "kernelspec": {
   "display_name": "venv",
   "language": "python",
   "name": "python3"
  },
  "language_info": {
   "codemirror_mode": {
    "name": "ipython",
    "version": 3
   },
   "file_extension": ".py",
   "mimetype": "text/x-python",
   "name": "python",
   "nbconvert_exporter": "python",
   "pygments_lexer": "ipython3",
   "version": "3.9.0"
  }
 },
 "nbformat": 4,
 "nbformat_minor": 2
}
