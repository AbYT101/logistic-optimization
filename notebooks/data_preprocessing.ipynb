{
 "cells": [
  {
   "cell_type": "code",
   "execution_count": 1,
   "metadata": {},
   "outputs": [],
   "source": [
    "import os\n",
    "import sys\n",
    "\n",
    "current_dir = os.getcwd()\n",
    "sys.path.insert(0, current_dir)\n",
    "\n",
    "\n",
    "# Import the necessary classes from the scripts directory\n",
    "from scripts.data_loader import DataLoader\n",
    "from scripts.data_preprocessing import DataPreprocessing\n",
    "\n",
    "# Now you can use DataLoader and DataPreprocessing in your notebook\n"
   ]
  },
  {
   "cell_type": "code",
   "execution_count": 2,
   "metadata": {},
   "outputs": [
    {
     "data": {
      "text/plain": [
       "<bound method NDFrame.describe of               id  order_id  driver_id driver_action       lat       lng  \\\n",
       "0              1    392001     243828      accepted  6.602207  3.270465   \n",
       "1              2    392001     243588      rejected  6.592097  3.287445   \n",
       "2              3    392001     243830      rejected  6.596133  3.281784   \n",
       "3              4    392001     243539      rejected  6.596142  3.280526   \n",
       "4              5    392001     171653      rejected  6.609232  3.288800   \n",
       "...          ...       ...        ...           ...       ...       ...   \n",
       "1557735  1557736    517948     243774      rejected  6.469036  3.566877   \n",
       "1557736  1557737    517948     245447      rejected  6.425431  3.527358   \n",
       "1557737  1557738    517948     239866      rejected  6.440013  3.525378   \n",
       "1557738  1557739    517948     243774      rejected  6.469036  3.566877   \n",
       "1557739  1557740    517948     244170      rejected  6.469390  3.572079   \n",
       "\n",
       "         created_at  updated_at  \n",
       "0               NaN         NaN  \n",
       "1               NaN         NaN  \n",
       "2               NaN         NaN  \n",
       "3               NaN         NaN  \n",
       "4               NaN         NaN  \n",
       "...             ...         ...  \n",
       "1557735         NaN         NaN  \n",
       "1557736         NaN         NaN  \n",
       "1557737         NaN         NaN  \n",
       "1557738         NaN         NaN  \n",
       "1557739         NaN         NaN  \n",
       "\n",
       "[1557740 rows x 8 columns]>"
      ]
     },
     "execution_count": 2,
     "metadata": {},
     "output_type": "execute_result"
    }
   ],
   "source": [
    "loader = DataLoader('data/nb.csv', 'data/driver_locations_during_request.csv')\n",
    "completed_orders = loader.load_completed_orders()\n",
    "delivery_requests = loader.load_delivery_requests()\n",
    "\n",
    "delivery_requests.describe"
   ]
  },
  {
   "cell_type": "code",
   "execution_count": 3,
   "metadata": {},
   "outputs": [
    {
     "data": {
      "text/plain": [
       "<bound method NDFrame.describe of         Trip ID                         Trip Origin  \\\n",
       "0        391996  6.508813001668548,3.37740316890347   \n",
       "1        391997                 6.4316714,3.4555375   \n",
       "2        391998         6.631679399999999,3.3388976   \n",
       "3        391999         6.572757200000001,3.3677082   \n",
       "4        392001                 6.6010417,3.2766339   \n",
       "...         ...                                 ...   \n",
       "536015  1637696         6.448218499999999,3.4772075   \n",
       "536016  1637702         6.442320899999999,3.4736868   \n",
       "536017  1637704                  6.4281982,3.492248   \n",
       "536018  1637705                 6.5869296,3.3632966   \n",
       "536019  1637709         6.647209999999999,3.4851489   \n",
       "\n",
       "                            Trip Destination      Trip Start Time  \\\n",
       "0                6.650969799999999,3.3450307  2021-07-01 07:28:04   \n",
       "1            6.4280814653326,3.4721885847586  2021-07-01 06:38:04   \n",
       "2                6.508324099999999,3.3590397  2021-07-01 06:21:02   \n",
       "3                6.584881099999999,3.3614073  2021-07-01 07:16:07   \n",
       "4                        6.4501069,3.3916154  2021-07-01 09:30:59   \n",
       "...                                      ...                  ...   \n",
       "536015   6.437787399999999,3.481670199999999  2021-12-30 20:35:06   \n",
       "536016  6.436589333407897,3.5559738188407835  2021-12-30 20:48:13   \n",
       "536017           6.448088500000001,3.4775747  2021-12-30 20:51:45   \n",
       "536018           6.637906899999999,3.3339515  2021-12-30 20:48:50   \n",
       "536019   6.454915198823159,3.555839938365194  2021-12-30 20:55:38   \n",
       "\n",
       "              Trip End Time  \n",
       "0       2021-07-01 07:29:37  \n",
       "1       2021-07-01 07:07:28  \n",
       "2       2021-07-01 07:02:23  \n",
       "3       2021-07-01 07:29:42  \n",
       "4       2021-07-01 09:34:36  \n",
       "...                     ...  \n",
       "536015  2021-12-30 21:02:59  \n",
       "536016  2021-12-30 21:43:49  \n",
       "536017  2021-12-30 21:41:32  \n",
       "536018  2021-12-30 21:08:28  \n",
       "536019  2021-12-30 22:25:00  \n",
       "\n",
       "[536020 rows x 5 columns]>"
      ]
     },
     "execution_count": 3,
     "metadata": {},
     "output_type": "execute_result"
    }
   ],
   "source": [
    "preprocessor = DataPreprocessing()\n",
    "completed_orders = preprocessor.handle_missing_values(completed_orders)\n",
    "\n",
    "completed_orders.describe"
   ]
  },
  {
   "cell_type": "code",
   "execution_count": 5,
   "metadata": {},
   "outputs": [
    {
     "name": "stderr",
     "output_type": "stream",
     "text": [
      "c:\\10x\\logistic-optimization\\scripts\\data_preprocessing.py:18: SettingWithCopyWarning: \n",
      "A value is trying to be set on a copy of a slice from a DataFrame.\n",
      "Try using .loc[row_indexer,col_indexer] = value instead\n",
      "\n",
      "See the caveats in the documentation: https://pandas.pydata.org/pandas-docs/stable/user_guide/indexing.html#returning-a-view-versus-a-copy\n",
      "  df[column + '_timestamp'] = df[column].apply(lambda x: x.timestamp())\n",
      "c:\\10x\\logistic-optimization\\scripts\\data_preprocessing.py:18: SettingWithCopyWarning: \n",
      "A value is trying to be set on a copy of a slice from a DataFrame.\n",
      "Try using .loc[row_indexer,col_indexer] = value instead\n",
      "\n",
      "See the caveats in the documentation: https://pandas.pydata.org/pandas-docs/stable/user_guide/indexing.html#returning-a-view-versus-a-copy\n",
      "  df[column + '_timestamp'] = df[column].apply(lambda x: x.timestamp())\n"
     ]
    },
    {
     "data": {
      "text/plain": [
       "<bound method NDFrame.describe of         Trip ID                         Trip Origin  \\\n",
       "0        391996  6.508813001668548,3.37740316890347   \n",
       "1        391997                 6.4316714,3.4555375   \n",
       "2        391998         6.631679399999999,3.3388976   \n",
       "3        391999         6.572757200000001,3.3677082   \n",
       "4        392001                 6.6010417,3.2766339   \n",
       "...         ...                                 ...   \n",
       "536015  1637696         6.448218499999999,3.4772075   \n",
       "536016  1637702         6.442320899999999,3.4736868   \n",
       "536017  1637704                  6.4281982,3.492248   \n",
       "536018  1637705                 6.5869296,3.3632966   \n",
       "536019  1637709         6.647209999999999,3.4851489   \n",
       "\n",
       "                            Trip Destination     Trip Start Time  \\\n",
       "0                6.650969799999999,3.3450307 2021-07-01 07:28:04   \n",
       "1            6.4280814653326,3.4721885847586 2021-07-01 06:38:04   \n",
       "2                6.508324099999999,3.3590397 2021-07-01 06:21:02   \n",
       "3                6.584881099999999,3.3614073 2021-07-01 07:16:07   \n",
       "4                        6.4501069,3.3916154 2021-07-01 09:30:59   \n",
       "...                                      ...                 ...   \n",
       "536015   6.437787399999999,3.481670199999999 2021-12-30 20:35:06   \n",
       "536016  6.436589333407897,3.5559738188407835 2021-12-30 20:48:13   \n",
       "536017           6.448088500000001,3.4775747 2021-12-30 20:51:45   \n",
       "536018           6.637906899999999,3.3339515 2021-12-30 20:48:50   \n",
       "536019   6.454915198823159,3.555839938365194 2021-12-30 20:55:38   \n",
       "\n",
       "             Trip End Time  \n",
       "0      2021-07-01 07:29:37  \n",
       "1      2021-07-01 07:07:28  \n",
       "2      2021-07-01 07:02:23  \n",
       "3      2021-07-01 07:29:42  \n",
       "4      2021-07-01 09:34:36  \n",
       "...                    ...  \n",
       "536015 2021-12-30 21:02:59  \n",
       "536016 2021-12-30 21:43:49  \n",
       "536017 2021-12-30 21:41:32  \n",
       "536018 2021-12-30 21:08:28  \n",
       "536019 2021-12-30 22:25:00  \n",
       "\n",
       "[535999 rows x 5 columns]>"
      ]
     },
     "execution_count": 5,
     "metadata": {},
     "output_type": "execute_result"
    }
   ],
   "source": [
    "completed_orders = preprocessor.handle_outliers(completed_orders, ['Trip Start Time', 'Trip End Time'])\n",
    "completed_orders.to_csv('data/completed_orders.csv', index=False)\n",
    "completed_orders.describe"
   ]
  },
  {
   "cell_type": "markdown",
   "metadata": {},
   "source": [
    "Let's fetch new external data on holidays, weather, and traffic conditions"
   ]
  },
  {
   "cell_type": "code",
   "execution_count": null,
   "metadata": {},
   "outputs": [],
   "source": []
  }
 ],
 "metadata": {
  "kernelspec": {
   "display_name": "Python 3 (ipykernel)",
   "language": "python",
   "name": "python3"
  },
  "language_info": {
   "codemirror_mode": {
    "name": "ipython",
    "version": 3
   },
   "file_extension": ".py",
   "mimetype": "text/x-python",
   "name": "python",
   "nbconvert_exporter": "python",
   "pygments_lexer": "ipython3",
   "version": "3.9.0"
  }
 },
 "nbformat": 4,
 "nbformat_minor": 4
}
