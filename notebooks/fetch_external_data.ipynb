{
 "cells": [
  {
   "cell_type": "markdown",
   "metadata": {},
   "source": [
    "Let's fetch new external data on holidays, weather, and traffic conditions"
   ]
  },
  {
   "cell_type": "code",
   "execution_count": 4,
   "metadata": {},
   "outputs": [
    {
     "data": {
      "text/plain": [
       "<bound method NDFrame.describe of           date  temperature  rain\n",
       "0   2021-07-01        301.8     0\n",
       "1   2021-07-02        301.8     0\n",
       "2   2021-07-03        301.8     0\n",
       "3   2021-07-04        301.8     0\n",
       "4   2021-07-05        301.8     0\n",
       "5   2021-07-06        301.8     0\n",
       "6   2021-07-07        301.8     0\n",
       "7   2021-07-08        301.8     0\n",
       "8   2021-07-09        301.8     0\n",
       "9   2021-07-10        301.8     0\n",
       "10  2021-07-11        301.8     0\n",
       "11  2021-07-12        301.8     0\n",
       "12  2021-07-13        301.8     0\n",
       "13  2021-07-14        301.8     0\n",
       "14  2021-07-15        301.8     0\n",
       "15  2021-07-16        301.8     0\n",
       "16  2021-07-17        301.8     0\n",
       "17  2021-07-18        301.8     0\n",
       "18  2021-07-19        301.8     0\n",
       "19  2021-07-20        301.8     0\n",
       "20  2021-07-21        301.8     0\n",
       "21  2021-07-22        301.8     0\n",
       "22  2021-07-23        301.8     0\n",
       "23  2021-07-24        301.8     0\n",
       "24  2021-07-25        301.8     0\n",
       "25  2021-07-26        301.8     0\n",
       "26  2021-07-27        301.8     0\n",
       "27  2021-07-28        301.8     0\n",
       "28  2021-07-29        301.8     0\n",
       "29  2021-07-30        301.8     0>"
      ]
     },
     "execution_count": 4,
     "metadata": {},
     "output_type": "execute_result"
    }
   ],
   "source": [
    "import yaml\n",
    "from scripts.fetch_external_data import FetchExternalData\n",
    "\n",
    "with open('config/config.yml', 'r') as file:\n",
    "    configs = yaml.safe_load(file)\n",
    "\n",
    "externalDataSources = FetchExternalData()\n",
    "\n",
    "# fetch external data\n",
    "weather_api_key = configs['api_keys']['openweathermap']\n",
    "start_date = '2021-07-01'\n",
    "end_date = '2021-07-30'\n",
    "\n",
    "weather_df = externalDataSources.fetch_weather_data(api_key=weather_api_key, start_date=start_date, end_date=end_date )\n",
    "weather_df.to_csv('data/weather_data.csv', index=False)\n",
    "weather_df.describe\n"
   ]
  },
  {
   "cell_type": "code",
   "execution_count": 3,
   "metadata": {},
   "outputs": [
    {
     "data": {
      "text/plain": [
       "<bound method NDFrame.describe of                          date                            name  \\\n",
       "0                  2021-01-01                  New Year's Day   \n",
       "1                  2021-02-14                 Valentine's Day   \n",
       "2                  2021-02-17                   Ash Wednesday   \n",
       "3                  2021-03-08                     Women's Day   \n",
       "4                  2021-03-14                Mothering Sunday   \n",
       "5   2021-03-20T10:37:31+01:00                   March Equinox   \n",
       "6                  2021-04-02                     Good Friday   \n",
       "7                  2021-04-03                   Holy Saturday   \n",
       "8                  2021-04-04                   Easter Sunday   \n",
       "9                  2021-04-05                   Easter Monday   \n",
       "10                 2021-05-01                    Workers' Day   \n",
       "11                 2021-05-03        Day off for Workers' Day   \n",
       "12                 2021-05-12              Id el Fitr holiday   \n",
       "13                 2021-05-13                      Id el Fitr   \n",
       "14                 2021-05-27                  Children's Day   \n",
       "15                 2021-06-12                   Democracy Day   \n",
       "16                 2021-06-14       Day off for Democracy Day   \n",
       "17                 2021-06-20                    Father's Day   \n",
       "18  2021-06-21T04:32:09+01:00                   June Solstice   \n",
       "19                 2021-07-20                     Id el Kabir   \n",
       "20                 2021-07-21  Id el Kabir additional holiday   \n",
       "21                 2021-08-09                Al-Hijra Holiday   \n",
       "22                 2021-08-10                Al-Hijra Holiday   \n",
       "23                 2021-08-20                       Isese Day   \n",
       "24                 2021-08-27  State Creation Anniversary Day   \n",
       "25  2021-09-22T20:21:11+01:00               September Equinox   \n",
       "26                 2021-10-01                    National Day   \n",
       "27                 2021-10-19                    Id el Maulud   \n",
       "28  2021-12-21T16:59:18+01:00               December Solstice   \n",
       "29                 2021-12-22            Sambisa Memorial Day   \n",
       "30                 2021-12-24                   Christmas Eve   \n",
       "31                 2021-12-25                   Christmas Day   \n",
       "32                 2021-12-26                      Boxing Day   \n",
       "33                 2021-12-27       Day off for Christmas Day   \n",
       "34                 2021-12-28          Day off for Boxing Day   \n",
       "35                 2021-12-31                  New Year's Eve   \n",
       "\n",
       "                     type  \n",
       "0        National holiday  \n",
       "1              Observance  \n",
       "2   Observance, Christian  \n",
       "3              Observance  \n",
       "4              Observance  \n",
       "5                  Season  \n",
       "6        National holiday  \n",
       "7   Observance, Christian  \n",
       "8   Observance, Christian  \n",
       "9        National holiday  \n",
       "10       National holiday  \n",
       "11       National holiday  \n",
       "12       National holiday  \n",
       "13       National holiday  \n",
       "14             Observance  \n",
       "15       National holiday  \n",
       "16       National holiday  \n",
       "17             Observance  \n",
       "18                 Season  \n",
       "19       National holiday  \n",
       "20       National holiday  \n",
       "21          Local holiday  \n",
       "22          Local holiday  \n",
       "23          Local holiday  \n",
       "24          Local holiday  \n",
       "25                 Season  \n",
       "26       National holiday  \n",
       "27       National holiday  \n",
       "28                 Season  \n",
       "29          Local holiday  \n",
       "30  Observance, Christian  \n",
       "31       National holiday  \n",
       "32       National holiday  \n",
       "33       National holiday  \n",
       "34       National holiday  \n",
       "35             Observance  >"
      ]
     },
     "execution_count": 3,
     "metadata": {},
     "output_type": "execute_result"
    }
   ],
   "source": [
    "# fetch external holiday data\n",
    "calendarific_api_key = configs['api_keys']['calendarific']\n",
    "start_date = '2021-07-01'\n",
    "end_date = '2021-07-30'\n",
    "\n",
    "holiday_df = externalDataSources.fetch_holiday_data(api_key=calendarific_api_key, country=\"NG\", year=2021)\n",
    "holiday_df.to_csv('data/holiday_data.csv', index=False)\n",
    "holiday_df.describe"
   ]
  },
  {
   "cell_type": "code",
   "execution_count": null,
   "metadata": {},
   "outputs": [],
   "source": [
    "# fetch external traffic data\n",
    "maps_api_key = configs['api_keys']['heremaps']\n",
    "start_date = '2021-07-01'\n",
    "end_date = '2021-07-30'\n",
    "\n",
    "maps_df = externalDataSources.fetch_traffic_data(api_key=maps_api_key, )\n",
    "maps_df.describe\n",
    "maps_df.to_csv('data/map_data.csv', index=False)"
   ]
  }
 ],
 "metadata": {
  "kernelspec": {
   "display_name": "venv",
   "language": "python",
   "name": "python3"
  },
  "language_info": {
   "codemirror_mode": {
    "name": "ipython",
    "version": 3
   },
   "file_extension": ".py",
   "mimetype": "text/x-python",
   "name": "python",
   "nbconvert_exporter": "python",
   "pygments_lexer": "ipython3",
   "version": "3.9.0"
  }
 },
 "nbformat": 4,
 "nbformat_minor": 2
}
