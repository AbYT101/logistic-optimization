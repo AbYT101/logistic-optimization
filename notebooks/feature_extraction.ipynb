{
 "cells": [
  {
   "cell_type": "code",
   "execution_count": 1,
   "metadata": {},
   "outputs": [
    {
     "data": {
      "text/plain": [
       "<bound method NDFrame.describe of         Trip ID                         Trip Origin  \\\n",
       "0        391996  6.508813001668548,3.37740316890347   \n",
       "1        391997                 6.4316714,3.4555375   \n",
       "2        391998         6.631679399999999,3.3388976   \n",
       "3        391999         6.572757200000001,3.3677082   \n",
       "4        392001                 6.6010417,3.2766339   \n",
       "...         ...                                 ...   \n",
       "535994  1637696         6.448218499999999,3.4772075   \n",
       "535995  1637702         6.442320899999999,3.4736868   \n",
       "535996  1637704                  6.4281982,3.492248   \n",
       "535997  1637705                 6.5869296,3.3632966   \n",
       "535998  1637709         6.647209999999999,3.4851489   \n",
       "\n",
       "                            Trip Destination     Trip Start Time  \\\n",
       "0                6.650969799999999,3.3450307 2021-07-01 07:28:04   \n",
       "1            6.4280814653326,3.4721885847586 2021-07-01 06:38:04   \n",
       "2                6.508324099999999,3.3590397 2021-07-01 06:21:02   \n",
       "3                6.584881099999999,3.3614073 2021-07-01 07:16:07   \n",
       "4                        6.4501069,3.3916154 2021-07-01 09:30:59   \n",
       "...                                      ...                 ...   \n",
       "535994   6.437787399999999,3.481670199999999 2021-12-30 20:35:06   \n",
       "535995  6.436589333407897,3.5559738188407835 2021-12-30 20:48:13   \n",
       "535996           6.448088500000001,3.4775747 2021-12-30 20:51:45   \n",
       "535997           6.637906899999999,3.3339515 2021-12-30 20:48:50   \n",
       "535998   6.454915198823159,3.555839938365194 2021-12-30 20:55:38   \n",
       "\n",
       "             Trip End Time  Trip Origin Lat  Trip Origin Lng  \\\n",
       "0      2021-07-01 07:29:37         6.508813         3.377403   \n",
       "1      2021-07-01 07:07:28         6.431671         3.455538   \n",
       "2      2021-07-01 07:02:23         6.631679         3.338898   \n",
       "3      2021-07-01 07:29:42         6.572757         3.367708   \n",
       "4      2021-07-01 09:34:36         6.601042         3.276634   \n",
       "...                    ...              ...              ...   \n",
       "535994 2021-12-30 21:02:59         6.448218         3.477208   \n",
       "535995 2021-12-30 21:43:49         6.442321         3.473687   \n",
       "535996 2021-12-30 21:41:32         6.428198         3.492248   \n",
       "535997 2021-12-30 21:08:28         6.586930         3.363297   \n",
       "535998 2021-12-30 22:25:00         6.647210         3.485149   \n",
       "\n",
       "        Trip Destination Lat  Trip Destination Lng  Trip Duration  \\\n",
       "0                   6.650970              3.345031       1.550000   \n",
       "1                   6.428081              3.472189      29.400000   \n",
       "2                   6.508324              3.359040      41.350000   \n",
       "3                   6.584881              3.361407      13.583333   \n",
       "4                   6.450107              3.391615       3.616667   \n",
       "...                      ...                   ...            ...   \n",
       "535994              6.437787              3.481670      27.883333   \n",
       "535995              6.436589              3.555974      55.600000   \n",
       "535996              6.448089              3.477575      49.783333   \n",
       "535997              6.637907              3.333951      19.633333   \n",
       "535998              6.454915              3.555840      89.366667   \n",
       "\n",
       "        Trip Distance       Speed  \n",
       "0           16.123451  624.133590  \n",
       "1            1.884305    3.845521  \n",
       "2           13.822393   20.056676  \n",
       "3            1.511034    6.674507  \n",
       "4           20.984319  348.126952  \n",
       "...               ...         ...  \n",
       "535994       1.254752    2.700005  \n",
       "535995       9.124781    9.846886  \n",
       "535996       2.733704    3.294722  \n",
       "535997       6.504796   19.878833  \n",
       "535998      22.657280   15.211900  \n",
       "\n",
       "[535999 rows x 12 columns]>"
      ]
     },
     "execution_count": 1,
     "metadata": {},
     "output_type": "execute_result"
    }
   ],
   "source": [
    "import pandas as pd\n",
    "from scripts.feature_engineering import extract_features, compute_orders_in_circles\n",
    "\n",
    "# Load datasets\n",
    "completed_orders = pd.read_csv('data/completed_orders.csv')\n",
    "\n",
    "# Feature Extraction\n",
    "completed_orders = extract_features(completed_orders)\n",
    "completed_orders.to_csv('data/completed_orders_with_features.csv', index=False)\n",
    "completed_orders.describe"
   ]
  },
  {
   "cell_type": "code",
   "execution_count": 3,
   "metadata": {},
   "outputs": [],
   "source": [
    "delivery_requests = pd.read_csv('data/driver_locations_during_request.csv')\n",
    "delivery_requests = compute_orders_in_circles(delivery_requests, 'lat', 'lng')\n",
    "delivery_requests.to_csv('riders_and orders_in_500m_circle.csv')\n",
    "delivery_requests.describe"
   ]
  },
  {
   "cell_type": "code",
   "execution_count": null,
   "metadata": {},
   "outputs": [],
   "source": [
    "# Cluster Analysis for Delivery Locations\n",
    "def cluster_analysis(df, lat_col, lng_col, n_clusters=10):\n",
    "    coords = df[[lat_col, lng_col]].values\n",
    "    kmeans = KMeans(n_clusters=n_clusters, random_state=42).fit(coords)\n",
    "    df['cluster'] = kmeans.labels_\n",
    "    return df\n",
    "\n",
    "delivery_requests = cluster_analysis(delivery_requests, 'lat', 'lng')\n",
    "delivery_requests.head"
   ]
  },
  {
   "cell_type": "code",
   "execution_count": null,
   "metadata": {},
   "outputs": [],
   "source": [
    "# Visualization with Datashader\n",
    "def plot_clusters(df, lat_col, lng_col, cluster_col):\n",
    "    cvs = ds.Canvas(plot_width=800, plot_height=800)\n",
    "    agg = cvs.points(df, lat_col, lng_col, ds.count_cat(cluster_col))\n",
    "    img = tf.shade(agg, how='eq_hist')\n",
    "    export_image(img, \"clusters\", background=\"white\")\n",
    "    return img\n",
    "\n",
    "# Call the visualization function\n",
    "cluster_img = plot_clusters(delivery_requests, 'lat', 'lng', 'cluster')\n",
    "\n",
    "# Display the image\n",
    "plt.imshow(cluster_img.to_pil())\n",
    "plt.axis('off')\n",
    "plt.show()\n"
   ]
  },
  {
   "cell_type": "code",
   "execution_count": null,
   "metadata": {},
   "outputs": [],
   "source": [
    "from geopy.distance import geodesic\n",
    "\n",
    "# Computing Routes between Points (Simplified)\n",
    "# This is a placeholder. Actual routing would require integration with a routing API like OSRM or Google Maps.\n",
    "def compute_route_distance(origin, destination):\n",
    "    return geodesic(origin, destination).km  # Simplified; actual route might be longer\n",
    "\n",
    "# Example of computing route distance\n",
    "completed_orders['Route Distance'] = completed_orders.apply(lambda row: compute_route_distance((row['Trip Origin Lat'], row['Trip Origin Lng']), (row['Trip Destination Lat'], row['Trip Destination Lng'])), axis=1)\n",
    "\n",
    "completed_orders['Route Distance'].head"
   ]
  }
 ],
 "metadata": {
  "kernelspec": {
   "display_name": "venv",
   "language": "python",
   "name": "python3"
  },
  "language_info": {
   "codemirror_mode": {
    "name": "ipython",
    "version": 3
   },
   "file_extension": ".py",
   "mimetype": "text/x-python",
   "name": "python",
   "nbconvert_exporter": "python",
   "pygments_lexer": "ipython3",
   "version": "3.9.0"
  }
 },
 "nbformat": 4,
 "nbformat_minor": 2
}
